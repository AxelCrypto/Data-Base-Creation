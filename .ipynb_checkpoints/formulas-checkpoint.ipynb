{
 "cells": [
  {
   "cell_type": "code",
   "execution_count": 7,
   "id": "76b89fdb",
   "metadata": {},
   "outputs": [],
   "source": [
    "%pip install ipython\n",
    "%pip install seaborn\n",
    "# librerias\n",
    "\n",
    "import pandas as pd\n",
    "pd.set_option('display.max_columns', None)\n",
    "\n",
    "import numpy as np\n",
    "\n",
    "import warnings\n",
    "warnings.filterwarnings('ignore')\n",
    "\n",
    "# para pintar\n",
    "import pylab as plt \n",
    "import seaborn as sns\n",
    "\n",
    "# para que salga el grafico\n",
    "%matplotlib inline\n",
    "\n",
    "class FirstData :\n",
    "\n",
    "    def first_view(df): \n",
    "        print('Dimensiones de df')\n",
    "        print(df.shape)\n",
    "        print()\n",
    "        print('Info')\n",
    "        display(df.info())\n",
    "        print()\n",
    "        print('Descripcion')\n",
    "        display(df.describe())\n",
    "        \n",
    "        print('Nulos')\n",
    "        plt.figure(figsize=(10, 6))  # inicia la figura y establece el tamaño\n",
    "\n",
    "        sns.heatmap(df.isna(),   # datos\n",
    "                    yticklabels=False,\n",
    "                    cmap='viridis',\n",
    "                    cbar=False)"
   ]
  },
  {
   "cell_type": "code",
   "execution_count": null,
   "id": "db611954",
   "metadata": {},
   "outputs": [],
   "source": []
  }
 ],
 "metadata": {
  "kernelspec": {
   "display_name": "Python 3 (ipykernel)",
   "language": "python",
   "name": "python3"
  },
  "language_info": {
   "codemirror_mode": {
    "name": "ipython",
    "version": 3
   },
   "file_extension": ".py",
   "mimetype": "text/x-python",
   "name": "python",
   "nbconvert_exporter": "python",
   "pygments_lexer": "ipython3",
   "version": "3.9.13"
  }
 },
 "nbformat": 4,
 "nbformat_minor": 5
}
